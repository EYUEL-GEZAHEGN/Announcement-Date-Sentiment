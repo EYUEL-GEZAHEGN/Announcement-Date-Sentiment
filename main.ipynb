{
 "cells": [
  {
   "cell_type": "code",
   "execution_count": 1,
   "metadata": {},
   "outputs": [],
   "source": [
    "import requests\n",
    "from bs4 import BeautifulSoup\n",
    "from vaderSentiment.vaderSentiment import SentimentIntensityAnalyzer"
   ]
  },
  {
   "cell_type": "code",
   "execution_count": null,
   "metadata": {},
   "outputs": [],
   "source": [
    "# Step 1: URL of the FOMC statement\n",
    "url = \"https://www.federalreserve.gov/newsevents/pressreleases/monetary20200303a.htm\"\n"
   ]
  },
  {
   "cell_type": "code",
   "execution_count": 14,
   "metadata": {},
   "outputs": [],
   "source": [
    "# Step 2: Scrape text\n",
    "response = requests.get(url)\n",
    "soup = BeautifulSoup(response.content, \"html.parser\")"
   ]
  },
  {
   "cell_type": "code",
   "execution_count": 15,
   "metadata": {},
   "outputs": [],
   "source": [
    "# Extract paragraph text from content\n",
    "paragraphs = soup.find_all(\"p\")\n",
    "statement_text = \" \".join([p.get_text() for p in paragraphs])"
   ]
  },
  {
   "cell_type": "code",
   "execution_count": 16,
   "metadata": {},
   "outputs": [],
   "source": [
    "# Step 3: Run sentiment analysis\n",
    "analyzer = SentimentIntensityAnalyzer()\n",
    "sentiment = analyzer.polarity_scores(statement_text)\n"
   ]
  },
  {
   "cell_type": "code",
   "execution_count": 17,
   "metadata": {},
   "outputs": [
    {
     "name": "stdout",
     "output_type": "stream",
     "text": [
      "📄 FED STATEMENT SENTIMENT\n",
      "Sentiment Breakdown:\n",
      "{'neg': 0.033, 'neu': 0.882, 'pos': 0.084, 'compound': 0.9761}\n",
      "Overall Compound Sentiment Score: 0.9761\n"
     ]
    }
   ],
   "source": [
    "# Step 4: Show results\n",
    "print(\"📄 FED STATEMENT SENTIMENT\")\n",
    "print(f\"Sentiment Breakdown:\\n{sentiment}\")\n",
    "print(f\"Overall Compound Sentiment Score: {sentiment['compound']}\")\n"
   ]
  }
 ],
 "metadata": {
  "kernelspec": {
   "display_name": "base",
   "language": "python",
   "name": "python3"
  },
  "language_info": {
   "codemirror_mode": {
    "name": "ipython",
    "version": 3
   },
   "file_extension": ".py",
   "mimetype": "text/x-python",
   "name": "python",
   "nbconvert_exporter": "python",
   "pygments_lexer": "ipython3",
   "version": "3.12.4"
  }
 },
 "nbformat": 4,
 "nbformat_minor": 2
}
